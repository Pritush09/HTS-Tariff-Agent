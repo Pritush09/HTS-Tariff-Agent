{
 "cells": [
  {
   "cell_type": "code",
   "execution_count": 1,
   "id": "db3c0c1b",
   "metadata": {},
   "outputs": [],
   "source": [
    "import pandas as pd\n",
    "import numpy as np\n",
    "import os"
   ]
  },
  {
   "cell_type": "code",
   "execution_count": 4,
   "id": "e49d50d1",
   "metadata": {},
   "outputs": [],
   "source": [
    "# chapter1 = pd.read_csv(\"C://Users//mynam//TariffBot//data//section1_data//htsdata_Chapter1.csv\")"
   ]
  },
  {
   "cell_type": "code",
   "execution_count": null,
   "id": "ff9ab640",
   "metadata": {},
   "outputs": [
    {
     "data": {
      "text/plain": [
       "(126, 9)"
      ]
     },
     "execution_count": 4,
     "metadata": {},
     "output_type": "execute_result"
    }
   ],
   "source": [
    "chapter1.shape"
   ]
  },
  {
   "cell_type": "code",
   "execution_count": 5,
   "id": "f6665121",
   "metadata": {},
   "outputs": [],
   "source": [
    "# chapter1.sample(10)"
   ]
  },
  {
   "cell_type": "code",
   "execution_count": null,
   "id": "2938744b",
   "metadata": {},
   "outputs": [],
   "source": [
    "# chapter2 = pd.read_csv(\"C:\\\\Users\\\\mynam\\\\TariffBot\\\\data\\\\section1_data\\\\htsdata_Chapter2.csv\")"
   ]
  },
  {
   "cell_type": "code",
   "execution_count": null,
   "id": "e5138a05",
   "metadata": {},
   "outputs": [],
   "source": [
    "# chapter3 = pd.read_csv(\"C:\\\\Users\\\\mynam\\\\TariffBot\\\\data\\\\section1_data\\\\htsdata_Chapter3.csv\")\n",
    "# chapter4 = pd.read_csv(\"C:\\\\Users\\\\mynam\\\\TariffBot\\\\data\\\\section1_data\\\\htsdata_Chapter4.csv\")\n",
    "# # chapter5 = pd.read_csv(\"C:\\\\Users\\\\mynam\\\\TariffBot\\\\data\\\\section1_data\\\\htsdata_Chapter5.csv\")"
   ]
  },
  {
   "cell_type": "code",
   "execution_count": 6,
   "id": "6694e9c2",
   "metadata": {},
   "outputs": [],
   "source": [
    "# chapter2.head()"
   ]
  },
  {
   "cell_type": "code",
   "execution_count": 7,
   "id": "a2931acd",
   "metadata": {},
   "outputs": [],
   "source": [
    "# chapter3.sample(6)"
   ]
  },
  {
   "cell_type": "code",
   "execution_count": 8,
   "metadata": {},
   "outputs": [],
   "source": [
    "# chapter4.head()"
   ]
  },
  {
   "cell_type": "code",
   "execution_count": 9,
   "id": "1e028501",
   "metadata": {},
   "outputs": [],
   "source": [
    "# chapter5.head()"
   ]
  },
  {
   "cell_type": "code",
   "execution_count": 10,
   "metadata": {},
   "outputs": [],
   "source": [
    "# merged_df = pd.concat([chapter1, chapter2, chapter3, chapter4, chapter5], ignore_index=True)"
   ]
  },
  {
   "cell_type": "code",
   "execution_count": null,
   "metadata": {},
   "outputs": [
    {
     "data": {
      "text/plain": [
       "Index(['HTS Number', 'Indent', 'Description', 'Unit of Quantity',\n",
       "       'General Rate of Duty', 'Special Rate of Duty', 'Column 2 Rate of Duty',\n",
       "       'Quota Quantity', 'Additional Duties'],\n",
       "      dtype='object')"
      ]
     },
     "execution_count": 14,
     "metadata": {},
     "output_type": "execute_result"
    }
   ],
   "source": [
    "# merged_df.columns"
   ]
  },
  {
   "cell_type": "code",
   "execution_count": null,
   "id": "45a026a6",
   "metadata": {},
   "outputs": [],
   "source": [
    "# merged_df.to_csv(\"section1.csv\",index=False)"
   ]
  },
  {
   "cell_type": "code",
   "execution_count": 12,
   "metadata": {},
   "outputs": [],
   "source": [
    "df = pd.read_csv(\"C:\\\\Users\\\\mynam\\\\TariffBot\\\\HTS-Tariff-Agent\\\\data\\\\downloads\\\\section1.csv\")"
   ]
  },
  {
   "cell_type": "code",
   "execution_count": 13,
   "id": "724c2e81",
   "metadata": {},
   "outputs": [
    {
     "data": {
      "text/html": [
       "<div>\n",
       "<style scoped>\n",
       "    .dataframe tbody tr th:only-of-type {\n",
       "        vertical-align: middle;\n",
       "    }\n",
       "\n",
       "    .dataframe tbody tr th {\n",
       "        vertical-align: top;\n",
       "    }\n",
       "\n",
       "    .dataframe thead th {\n",
       "        text-align: right;\n",
       "    }\n",
       "</style>\n",
       "<table border=\"1\" class=\"dataframe\">\n",
       "  <thead>\n",
       "    <tr style=\"text-align: right;\">\n",
       "      <th></th>\n",
       "      <th>HTS Number</th>\n",
       "      <th>Indent</th>\n",
       "      <th>Description</th>\n",
       "      <th>Unit of Quantity</th>\n",
       "      <th>General Rate of Duty</th>\n",
       "      <th>Special Rate of Duty</th>\n",
       "      <th>Column 2 Rate of Duty</th>\n",
       "      <th>Quota Quantity</th>\n",
       "      <th>Additional Duties</th>\n",
       "    </tr>\n",
       "  </thead>\n",
       "  <tbody>\n",
       "    <tr>\n",
       "      <th>0</th>\n",
       "      <td>0101</td>\n",
       "      <td>0</td>\n",
       "      <td>Live horses, asses, mules and hinnies:</td>\n",
       "      <td>NaN</td>\n",
       "      <td>NaN</td>\n",
       "      <td>NaN</td>\n",
       "      <td>NaN</td>\n",
       "      <td>NaN</td>\n",
       "      <td>NaN</td>\n",
       "    </tr>\n",
       "    <tr>\n",
       "      <th>1</th>\n",
       "      <td>NaN</td>\n",
       "      <td>1</td>\n",
       "      <td>Horses:</td>\n",
       "      <td>NaN</td>\n",
       "      <td>NaN</td>\n",
       "      <td>NaN</td>\n",
       "      <td>NaN</td>\n",
       "      <td>NaN</td>\n",
       "      <td>NaN</td>\n",
       "    </tr>\n",
       "    <tr>\n",
       "      <th>2</th>\n",
       "      <td>0101.21.00</td>\n",
       "      <td>2</td>\n",
       "      <td>Purebred breeding animals</td>\n",
       "      <td>NaN</td>\n",
       "      <td>Free</td>\n",
       "      <td>NaN</td>\n",
       "      <td>Free</td>\n",
       "      <td>NaN</td>\n",
       "      <td>NaN</td>\n",
       "    </tr>\n",
       "    <tr>\n",
       "      <th>3</th>\n",
       "      <td>0101.21.00.10</td>\n",
       "      <td>3</td>\n",
       "      <td>Males</td>\n",
       "      <td>[\"No.\"]</td>\n",
       "      <td>NaN</td>\n",
       "      <td>NaN</td>\n",
       "      <td>NaN</td>\n",
       "      <td>NaN</td>\n",
       "      <td>NaN</td>\n",
       "    </tr>\n",
       "    <tr>\n",
       "      <th>4</th>\n",
       "      <td>0101.21.00.20</td>\n",
       "      <td>3</td>\n",
       "      <td>Females</td>\n",
       "      <td>[\"No.\"]</td>\n",
       "      <td>NaN</td>\n",
       "      <td>NaN</td>\n",
       "      <td>NaN</td>\n",
       "      <td>NaN</td>\n",
       "      <td>NaN</td>\n",
       "    </tr>\n",
       "    <tr>\n",
       "      <th>...</th>\n",
       "      <td>...</td>\n",
       "      <td>...</td>\n",
       "      <td>...</td>\n",
       "      <td>...</td>\n",
       "      <td>...</td>\n",
       "      <td>...</td>\n",
       "      <td>...</td>\n",
       "      <td>...</td>\n",
       "      <td>...</td>\n",
       "    </tr>\n",
       "    <tr>\n",
       "      <th>1664</th>\n",
       "      <td>0511.99.40.24</td>\n",
       "      <td>5</td>\n",
       "      <td>Dairy cattle</td>\n",
       "      <td>[\"No.\"]</td>\n",
       "      <td>NaN</td>\n",
       "      <td>NaN</td>\n",
       "      <td>NaN</td>\n",
       "      <td>NaN</td>\n",
       "      <td>NaN</td>\n",
       "    </tr>\n",
       "    <tr>\n",
       "      <th>1665</th>\n",
       "      <td>0511.99.40.28</td>\n",
       "      <td>5</td>\n",
       "      <td>Other cattle</td>\n",
       "      <td>[\"No.\"]</td>\n",
       "      <td>NaN</td>\n",
       "      <td>NaN</td>\n",
       "      <td>NaN</td>\n",
       "      <td>NaN</td>\n",
       "      <td>NaN</td>\n",
       "    </tr>\n",
       "    <tr>\n",
       "      <th>1666</th>\n",
       "      <td>0511.99.40.30</td>\n",
       "      <td>4</td>\n",
       "      <td>Dried blood</td>\n",
       "      <td>[\"kg\"]</td>\n",
       "      <td>NaN</td>\n",
       "      <td>NaN</td>\n",
       "      <td>NaN</td>\n",
       "      <td>NaN</td>\n",
       "      <td>NaN</td>\n",
       "    </tr>\n",
       "    <tr>\n",
       "      <th>1667</th>\n",
       "      <td>0511.99.40.40</td>\n",
       "      <td>4</td>\n",
       "      <td>Other animal semen</td>\n",
       "      <td>[\"doses\"]</td>\n",
       "      <td>NaN</td>\n",
       "      <td>NaN</td>\n",
       "      <td>NaN</td>\n",
       "      <td>NaN</td>\n",
       "      <td>NaN</td>\n",
       "    </tr>\n",
       "    <tr>\n",
       "      <th>1668</th>\n",
       "      <td>0511.99.40.70</td>\n",
       "      <td>4</td>\n",
       "      <td>Other</td>\n",
       "      <td>[\"kg\"]</td>\n",
       "      <td>NaN</td>\n",
       "      <td>NaN</td>\n",
       "      <td>NaN</td>\n",
       "      <td>NaN</td>\n",
       "      <td>NaN</td>\n",
       "    </tr>\n",
       "  </tbody>\n",
       "</table>\n",
       "<p>1669 rows × 9 columns</p>\n",
       "</div>"
      ],
      "text/plain": [
       "         HTS Number  Indent                             Description  \\\n",
       "0              0101       0  Live horses, asses, mules and hinnies:   \n",
       "1               NaN       1                                 Horses:   \n",
       "2        0101.21.00       2               Purebred breeding animals   \n",
       "3     0101.21.00.10       3                                   Males   \n",
       "4     0101.21.00.20       3                                 Females   \n",
       "...             ...     ...                                     ...   \n",
       "1664  0511.99.40.24       5                            Dairy cattle   \n",
       "1665  0511.99.40.28       5                            Other cattle   \n",
       "1666  0511.99.40.30       4                             Dried blood   \n",
       "1667  0511.99.40.40       4                      Other animal semen   \n",
       "1668  0511.99.40.70       4                                   Other   \n",
       "\n",
       "     Unit of Quantity General Rate of Duty Special Rate of Duty  \\\n",
       "0                 NaN                  NaN                  NaN   \n",
       "1                 NaN                  NaN                  NaN   \n",
       "2                 NaN                 Free                  NaN   \n",
       "3             [\"No.\"]                  NaN                  NaN   \n",
       "4             [\"No.\"]                  NaN                  NaN   \n",
       "...               ...                  ...                  ...   \n",
       "1664          [\"No.\"]                  NaN                  NaN   \n",
       "1665          [\"No.\"]                  NaN                  NaN   \n",
       "1666           [\"kg\"]                  NaN                  NaN   \n",
       "1667        [\"doses\"]                  NaN                  NaN   \n",
       "1668           [\"kg\"]                  NaN                  NaN   \n",
       "\n",
       "     Column 2 Rate of Duty  Quota Quantity  Additional Duties  \n",
       "0                      NaN             NaN                NaN  \n",
       "1                      NaN             NaN                NaN  \n",
       "2                     Free             NaN                NaN  \n",
       "3                      NaN             NaN                NaN  \n",
       "4                      NaN             NaN                NaN  \n",
       "...                    ...             ...                ...  \n",
       "1664                   NaN             NaN                NaN  \n",
       "1665                   NaN             NaN                NaN  \n",
       "1666                   NaN             NaN                NaN  \n",
       "1667                   NaN             NaN                NaN  \n",
       "1668                   NaN             NaN                NaN  \n",
       "\n",
       "[1669 rows x 9 columns]"
      ]
     },
     "execution_count": 13,
     "metadata": {},
     "output_type": "execute_result"
    }
   ],
   "source": [
    "df"
   ]
  },
  {
   "cell_type": "code",
   "execution_count": 14,
   "id": "f39c7750",
   "metadata": {},
   "outputs": [],
   "source": [
    "import re\n",
    "\n",
    "# Load HTS data CSV\n",
    "# df = pd.read_csv(\"htsdata.csv\")\n",
    "\n",
    "# Input values\n",
    "product_cost = 10000.0  # FOB cost\n",
    "freight = 500.0\n",
    "insurance = 100.0\n",
    "unit_weight = 1000  # in kg\n",
    "quantity = 10       # number of units\n",
    "\n",
    "# Compute CIF\n",
    "cif_value = product_cost + freight + insurance\n",
    "\n",
    "# Duty parser\n",
    "def parse_duty_advanced(duty_str, unit_weight=None, quantity=None):\n",
    "    \"\"\"\n",
    "    Parses and returns a duty rate as a decimal fraction (e.g., 0.05 for 5%),\n",
    "    or a calculated specific duty based on unit_weight or quantity.\n",
    "    \"\"\"\n",
    "    if pd.isna(duty_str) or duty_str.strip() == \"\":\n",
    "        return 0.0\n",
    "\n",
    "    duty_str = duty_str.strip().lower()\n",
    "\n",
    "    if \"free\" in duty_str:\n",
    "        return 0.0\n",
    "\n",
    "    # Percentage duty (e.g., '5%')\n",
    "    match = re.search(r\"([\\d.]+)\\s*%\", duty_str)\n",
    "    if match:\n",
    "        return float(match.group(1)) / 100\n",
    "\n",
    "    # Weight-based duty (e.g., '2.5¢/kg')\n",
    "    match = re.search(r\"([\\d.]+)\\s*¢/kg\", duty_str)\n",
    "    if match and unit_weight is not None:\n",
    "        cents_per_kg = float(match.group(1))\n",
    "        return (cents_per_kg * unit_weight) / (100 * cif_value)  # convert to % of CIF\n",
    "\n",
    "    # Unit-based duty (e.g., '$1.00/unit')\n",
    "    match = re.search(r\"\\$([\\d.]+)/unit\", duty_str)\n",
    "    if match and quantity is not None:\n",
    "        dollars_per_unit = float(match.group(1))\n",
    "        return (dollars_per_unit * quantity) / cif_value\n",
    "\n",
    "    return 0.0\n",
    "\n",
    "# Create working DataFrame\n",
    "duty_df = df[[\"HTS Number\", \"Description\", \"General Rate of Duty\", \n",
    "              \"Special Rate of Duty\", \"Column 2 Rate of Duty\"]].copy()\n",
    "\n",
    "# Apply CIF and input data\n",
    "duty_df[\"CIF Value\"] = cif_value\n",
    "duty_df[\"Product Cost\"] = product_cost\n",
    "duty_df[\"Freight\"] = freight\n",
    "duty_df[\"Insurance\"] = insurance\n",
    "\n",
    "# Apply duty calculations\n",
    "for col in [\"General Rate of Duty\", \"Special Rate of Duty\", \"Column 2 Rate of Duty\"]:\n",
    "    parsed_col = f\"{col} Parsed (%)\"\n",
    "    amount_col = f\"{col} Duty Amount\"\n",
    "    duty_df[parsed_col] = duty_df[col].apply(lambda x: parse_duty_advanced(x, unit_weight, quantity))\n",
    "    duty_df[amount_col] = duty_df[parsed_col] * cif_value\n",
    "\n",
    "# Filter results with any applicable duty\n",
    "duty_df_filtered = duty_df[\n",
    "    (duty_df[\"General Rate of Duty Duty Amount\"] > 0) |\n",
    "    (duty_df[\"Special Rate of Duty Duty Amount\"] > 0) |\n",
    "    (duty_df[\"Column 2 Rate of Duty Duty Amount\"] > 0)\n",
    "]\n",
    "\n",
    "# Save results\n",
    "duty_df_filtered.to_csv(\"landed_cost_duties.csv\", index=False)\n"
   ]
  },
  {
   "cell_type": "code",
   "execution_count": 15,
   "id": "1c199888",
   "metadata": {},
   "outputs": [],
   "source": [
    "landed_cost = pd.read_csv(\"landed_cost_duties.csv\")"
   ]
  },
  {
   "cell_type": "code",
   "execution_count": 18,
   "id": "2de20bd2",
   "metadata": {},
   "outputs": [
    {
     "data": {
      "text/plain": [
       "0                                                  Other\n",
       "1                                                  Asses\n",
       "2                                                  Other\n",
       "3             Cows imported specially for dairy purposes\n",
       "4                                                  Other\n",
       "                             ...                        \n",
       "513                 Ambergris, castoreum, civet and musk\n",
       "514                                         Bovine semen\n",
       "515    Products chiefly used as food for animals or a...\n",
       "516                     Natural sponges of animal origin\n",
       "517                                                Other\n",
       "Name: Description, Length: 518, dtype: object"
      ]
     },
     "execution_count": 18,
     "metadata": {},
     "output_type": "execute_result"
    }
   ],
   "source": [
    "landed_cost.Description"
   ]
  },
  {
   "cell_type": "code",
   "execution_count": null,
   "id": "953b3614",
   "metadata": {},
   "outputs": [],
   "source": []
  }
 ],
 "metadata": {
  "kernelspec": {
   "display_name": ".venv",
   "language": "python",
   "name": "python3"
  },
  "language_info": {
   "codemirror_mode": {
    "name": "ipython",
    "version": 3
   },
   "file_extension": ".py",
   "mimetype": "text/x-python",
   "name": "python",
   "nbconvert_exporter": "python",
   "pygments_lexer": "ipython3",
   "version": "3.11.9"
  }
 },
 "nbformat": 4,
 "nbformat_minor": 5
}
