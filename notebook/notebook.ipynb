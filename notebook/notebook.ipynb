{
 "cells": [
  {
   "cell_type": "code",
   "execution_count": 1,
   "id": "db3c0c1b",
   "metadata": {},
   "outputs": [],
   "source": [
    "import pandas as pd\n",
    "import numpy as np\n",
    "import os"
   ]
  },
  {
   "cell_type": "code",
   "execution_count": 4,
   "id": "e49d50d1",
   "metadata": {},
   "outputs": [],
   "source": [
    "# chapter1 = pd.read_csv(\"C://Users//mynam//TariffBot//data//section1_data//htsdata_Chapter1.csv\")"
   ]
  },
  {
   "cell_type": "code",
   "execution_count": null,
   "id": "ff9ab640",
   "metadata": {},
   "outputs": [
    {
     "data": {
      "text/plain": [
       "(126, 9)"
      ]
     },
     "execution_count": 4,
     "metadata": {},
     "output_type": "execute_result"
    }
   ],
   "source": [
    "# chapter1.shape"
   ]
  },
  {
   "cell_type": "code",
   "execution_count": 5,
   "id": "f6665121",
   "metadata": {},
   "outputs": [],
   "source": [
    "# chapter1.sample(10)"
   ]
  },
  {
   "cell_type": "code",
   "execution_count": null,
   "id": "2938744b",
   "metadata": {},
   "outputs": [],
   "source": [
    "# chapter2 = pd.read_csv(\"C:\\\\Users\\\\mynam\\\\TariffBot\\\\data\\\\section1_data\\\\htsdata_Chapter2.csv\")"
   ]
  },
  {
   "cell_type": "code",
   "execution_count": null,
   "id": "e5138a05",
   "metadata": {},
   "outputs": [],
   "source": [
    "# chapter3 = pd.read_csv(\"C:\\\\Users\\\\mynam\\\\TariffBot\\\\data\\\\section1_data\\\\htsdata_Chapter3.csv\")\n",
    "# chapter4 = pd.read_csv(\"C:\\\\Users\\\\mynam\\\\TariffBot\\\\data\\\\section1_data\\\\htsdata_Chapter4.csv\")\n",
    "# # chapter5 = pd.read_csv(\"C:\\\\Users\\\\mynam\\\\TariffBot\\\\data\\\\section1_data\\\\htsdata_Chapter5.csv\")"
   ]
  },
  {
   "cell_type": "code",
   "execution_count": 6,
   "id": "6694e9c2",
   "metadata": {},
   "outputs": [],
   "source": [
    "# chapter2.head()"
   ]
  },
  {
   "cell_type": "code",
   "execution_count": 7,
   "id": "a2931acd",
   "metadata": {},
   "outputs": [],
   "source": [
    "# chapter3.sample(6)"
   ]
  },
  {
   "cell_type": "code",
   "execution_count": 8,
   "metadata": {},
   "outputs": [],
   "source": [
    "# chapter4.head()"
   ]
  },
  {
   "cell_type": "code",
   "execution_count": 9,
   "id": "1e028501",
   "metadata": {},
   "outputs": [],
   "source": [
    "# chapter5.head()"
   ]
  },
  {
   "cell_type": "code",
   "execution_count": 10,
   "metadata": {},
   "outputs": [],
   "source": [
    "# merged_df = pd.concat([chapter1, chapter2, chapter3, chapter4, chapter5], ignore_index=True)"
   ]
  },
  {
   "cell_type": "code",
   "execution_count": null,
   "metadata": {},
   "outputs": [
    {
     "data": {
      "text/plain": [
       "Index(['HTS Number', 'Indent', 'Description', 'Unit of Quantity',\n",
       "       'General Rate of Duty', 'Special Rate of Duty', 'Column 2 Rate of Duty',\n",
       "       'Quota Quantity', 'Additional Duties'],\n",
       "      dtype='object')"
      ]
     },
     "execution_count": 14,
     "metadata": {},
     "output_type": "execute_result"
    }
   ],
   "source": [
    "# merged_df.columns"
   ]
  },
  {
   "cell_type": "code",
   "execution_count": null,
   "id": "45a026a6",
   "metadata": {},
   "outputs": [],
   "source": [
    "# merged_df.to_csv(\"section1.csv\",index=False)"
   ]
  },
  {
   "cell_type": "code",
   "execution_count": 40,
   "metadata": {},
   "outputs": [],
   "source": [
    "df = pd.read_csv(\"C:\\\\Users\\\\mynam\\\\TariffBot\\\\HTS-Tariff-Agent\\\\data\\\\downloads\\\\section1.csv\")"
   ]
  },
  {
   "cell_type": "code",
   "execution_count": 50,
   "id": "97b892a1",
   "metadata": {},
   "outputs": [
    {
     "data": {
      "text/plain": [
       "0                0101\n",
       "1                 NaN\n",
       "2          0101.21.00\n",
       "3       0101.21.00.10\n",
       "4       0101.21.00.20\n",
       "            ...      \n",
       "1664    0511.99.40.24\n",
       "1665    0511.99.40.28\n",
       "1666    0511.99.40.30\n",
       "1667    0511.99.40.40\n",
       "1668    0511.99.40.70\n",
       "Name: HTS Number, Length: 1669, dtype: object"
      ]
     },
     "execution_count": 50,
     "metadata": {},
     "output_type": "execute_result"
    }
   ],
   "source": [
    "df['HTS Number']"
   ]
  },
  {
   "cell_type": "code",
   "execution_count": 41,
   "id": "724c2e81",
   "metadata": {},
   "outputs": [
    {
     "data": {
      "text/plain": [
       "np.int64(287)"
      ]
     },
     "execution_count": 41,
     "metadata": {},
     "output_type": "execute_result"
    }
   ],
   "source": [
    "df['HTS Number'].isnull().sum()"
   ]
  },
  {
   "cell_type": "code",
   "execution_count": 42,
   "id": "9b720d76",
   "metadata": {},
   "outputs": [],
   "source": [
    "df_cleaned = df.dropna(subset=['HTS Number']).copy()"
   ]
  },
  {
   "cell_type": "code",
   "execution_count": 43,
   "id": "64ed6263",
   "metadata": {},
   "outputs": [
    {
     "data": {
      "text/plain": [
       "'0511.99.40.70'"
      ]
     },
     "execution_count": 43,
     "metadata": {},
     "output_type": "execute_result"
    }
   ],
   "source": [
    "df_cleaned['HTS Number'].max()"
   ]
  },
  {
   "cell_type": "code",
   "execution_count": 44,
   "id": "18db4849",
   "metadata": {},
   "outputs": [],
   "source": [
    "# Ensures consistent string operations and preserves leading zeros\n",
    "df_cleaned['HTS Number'] = df_cleaned['HTS Number'].astype(str)\n",
    "\n",
    "# Trim whitespace\n",
    "df_cleaned['HTS Number'] = df_cleaned['HTS Number'].str.strip()"
   ]
  },
  {
   "cell_type": "code",
   "execution_count": 47,
   "id": "45d601ea",
   "metadata": {},
   "outputs": [],
   "source": [
    "def standardize_hts(hts_code):\n",
    "\n",
    "    # Remove all dots and then re-add them based on length\n",
    "    numeric_part = hts_code.replace('.', '')\n",
    "\n",
    "    # Example: If you want 10 digits always (like XXXXXX.XXXX) or c\n",
    "    # This example assumes a structure like 4.2.2.2 (10 digits, 3 dots)\n",
    "    if len(numeric_part) == 4: # e.g., '0101' -> '0101.00.00.00'\n",
    "        return f\"{numeric_part}.00.00.00\"\n",
    "    elif len(numeric_part) == 6:\n",
    "        return f\"{numeric_part[:4]}.{numeric_part[4:6]}.00.00\"\n",
    "    elif len(numeric_part) == 8: # e.g., '01012100' or '0101.21.00'\n",
    "        return f\"{numeric_part[:4]}.{numeric_part[4:6]}.{numeric_part[6:8]}.00\"\n",
    "    elif len(numeric_part) == 10: # e.g., '0101210010' or '0101.21.00.10'\n",
    "        return f\"{numeric_part[:4]}.{numeric_part[4:6]}.{numeric_part[6:8]}.{numeric_part[8:10]}\"\n",
    "    # Add more conditions for other lengths you might encounter\n",
    "    else:\n",
    "        # If it doesn't fit a standard pattern, you might return it as is,\n",
    "        # or mark it for review, or set to NaN\n",
    "        print(f\"Warning: HTS '{hts_code}' (numeric: '{numeric_part}') does not fit standard format. Returning as is.\")\n",
    "        return hts_code # Or pd.NA for invalid ones\n",
    "\n",
    "df_cleaned['HTS Number'] = df_cleaned['HTS Number'].apply(standardize_hts)"
   ]
  },
  {
   "cell_type": "code",
   "execution_count": 48,
   "id": "402d3c20",
   "metadata": {},
   "outputs": [
    {
     "data": {
      "text/html": [
       "<div>\n",
       "<style scoped>\n",
       "    .dataframe tbody tr th:only-of-type {\n",
       "        vertical-align: middle;\n",
       "    }\n",
       "\n",
       "    .dataframe tbody tr th {\n",
       "        vertical-align: top;\n",
       "    }\n",
       "\n",
       "    .dataframe thead th {\n",
       "        text-align: right;\n",
       "    }\n",
       "</style>\n",
       "<table border=\"1\" class=\"dataframe\">\n",
       "  <thead>\n",
       "    <tr style=\"text-align: right;\">\n",
       "      <th></th>\n",
       "      <th>HTS Number</th>\n",
       "      <th>Indent</th>\n",
       "      <th>Description</th>\n",
       "      <th>Unit of Quantity</th>\n",
       "      <th>General Rate of Duty</th>\n",
       "      <th>Special Rate of Duty</th>\n",
       "      <th>Column 2 Rate of Duty</th>\n",
       "      <th>Quota Quantity</th>\n",
       "      <th>Additional Duties</th>\n",
       "      <th>HTS Number Cleaned</th>\n",
       "    </tr>\n",
       "  </thead>\n",
       "  <tbody>\n",
       "    <tr>\n",
       "      <th>721</th>\n",
       "      <td>0304.59.00.09</td>\n",
       "      <td>5</td>\n",
       "      <td>Other</td>\n",
       "      <td>[\"kg\"]</td>\n",
       "      <td>NaN</td>\n",
       "      <td>NaN</td>\n",
       "      <td>NaN</td>\n",
       "      <td>NaN</td>\n",
       "      <td>NaN</td>\n",
       "      <td>0304.59.00.09</td>\n",
       "    </tr>\n",
       "    <tr>\n",
       "      <th>1441</th>\n",
       "      <td>0406.30.34.00</td>\n",
       "      <td>3</td>\n",
       "      <td>Described in additional U.S. note 19 to this c...</td>\n",
       "      <td>[\"kg\",\"kg cmsc\"]</td>\n",
       "      <td>20%</td>\n",
       "      <td>Free (A+,AU,BH,CL,CO,D,E,IL,JO,KR,MA,OM,P,PA,P...</td>\n",
       "      <td>35%</td>\n",
       "      <td>NaN</td>\n",
       "      <td>NaN</td>\n",
       "      <td>0406.30.34.00</td>\n",
       "    </tr>\n",
       "    <tr>\n",
       "      <th>963</th>\n",
       "      <td>0306.11.00.00</td>\n",
       "      <td>2</td>\n",
       "      <td>Rock lobster and other sea crawfish (Palinurus...</td>\n",
       "      <td>NaN</td>\n",
       "      <td>Free</td>\n",
       "      <td>NaN</td>\n",
       "      <td>Free</td>\n",
       "      <td>NaN</td>\n",
       "      <td>NaN</td>\n",
       "      <td>0306.11.00.00</td>\n",
       "    </tr>\n",
       "    <tr>\n",
       "      <th>1573</th>\n",
       "      <td>0406.90.94.00</td>\n",
       "      <td>6</td>\n",
       "      <td>Other</td>\n",
       "      <td>[\"kg\",\"kg cmsc\"]</td>\n",
       "      <td>$1.128/kg</td>\n",
       "      <td>Free (BH,CL,JO,MA,OM,P,PE,SG) 7.5¢/kg (KR) See...</td>\n",
       "      <td>$1.328/kg</td>\n",
       "      <td>NaN</td>\n",
       "      <td>NaN</td>\n",
       "      <td>0406.90.94.00</td>\n",
       "    </tr>\n",
       "    <tr>\n",
       "      <th>115</th>\n",
       "      <td>0106.33.00.00</td>\n",
       "      <td>2</td>\n",
       "      <td>Ostriches; emus (Dromaius novaehollandiae)</td>\n",
       "      <td>[\"No.\"]</td>\n",
       "      <td>1.8%</td>\n",
       "      <td>Free (A,AU,BH,CL,CO,D,E,IL,JO,KR,MA,OM,P,PA,PE...</td>\n",
       "      <td>20%</td>\n",
       "      <td>NaN</td>\n",
       "      <td>NaN</td>\n",
       "      <td>0106.33.00.00</td>\n",
       "    </tr>\n",
       "    <tr>\n",
       "      <th>1117</th>\n",
       "      <td>0307.72.00.60</td>\n",
       "      <td>3</td>\n",
       "      <td>Other</td>\n",
       "      <td>[\"kg\"]</td>\n",
       "      <td>NaN</td>\n",
       "      <td>NaN</td>\n",
       "      <td>NaN</td>\n",
       "      <td>NaN</td>\n",
       "      <td>NaN</td>\n",
       "      <td>0307.72.00.60</td>\n",
       "    </tr>\n",
       "    <tr>\n",
       "      <th>617</th>\n",
       "      <td>0303.89.00.10</td>\n",
       "      <td>3</td>\n",
       "      <td>Cusk</td>\n",
       "      <td>[\"kg\"]</td>\n",
       "      <td>NaN</td>\n",
       "      <td>NaN</td>\n",
       "      <td>NaN</td>\n",
       "      <td>NaN</td>\n",
       "      <td>NaN</td>\n",
       "      <td>0303.89.00.10</td>\n",
       "    </tr>\n",
       "    <tr>\n",
       "      <th>248</th>\n",
       "      <td>0203.21.00.00</td>\n",
       "      <td>2</td>\n",
       "      <td>Carcasses and half-carcasses</td>\n",
       "      <td>[\"kg\"]</td>\n",
       "      <td>Free</td>\n",
       "      <td>NaN</td>\n",
       "      <td>5.5¢/kg</td>\n",
       "      <td>NaN</td>\n",
       "      <td>NaN</td>\n",
       "      <td>0203.21.00.00</td>\n",
       "    </tr>\n",
       "    <tr>\n",
       "      <th>1535</th>\n",
       "      <td>0406.90.44.00</td>\n",
       "      <td>3</td>\n",
       "      <td>Described in general note 15 of the tariff sch...</td>\n",
       "      <td>[\"kg\"]</td>\n",
       "      <td>6.4%</td>\n",
       "      <td>Free (A+,AU,BH,CL,CO,D,E,IL,JO,KR,MA,OM,P,PA,P...</td>\n",
       "      <td>35%</td>\n",
       "      <td>NaN</td>\n",
       "      <td>NaN</td>\n",
       "      <td>0406.90.44.00</td>\n",
       "    </tr>\n",
       "    <tr>\n",
       "      <th>284</th>\n",
       "      <td>0206.00.00.00</td>\n",
       "      <td>0</td>\n",
       "      <td>Edible offal of bovine animals, swine, sheep, ...</td>\n",
       "      <td>NaN</td>\n",
       "      <td>NaN</td>\n",
       "      <td>NaN</td>\n",
       "      <td>NaN</td>\n",
       "      <td>NaN</td>\n",
       "      <td>NaN</td>\n",
       "      <td>0206.00.00.00</td>\n",
       "    </tr>\n",
       "    <tr>\n",
       "      <th>846</th>\n",
       "      <td>0304.95.00.00</td>\n",
       "      <td>2</td>\n",
       "      <td>Fish of the families Bregmacerotidae, Euclicht...</td>\n",
       "      <td>NaN</td>\n",
       "      <td>NaN</td>\n",
       "      <td>NaN</td>\n",
       "      <td>NaN</td>\n",
       "      <td>NaN</td>\n",
       "      <td>NaN</td>\n",
       "      <td>0304.95.00.00</td>\n",
       "    </tr>\n",
       "    <tr>\n",
       "      <th>1034</th>\n",
       "      <td>0306.33.40.00</td>\n",
       "      <td>3</td>\n",
       "      <td>Other</td>\n",
       "      <td>[\"kg\"]</td>\n",
       "      <td>Free</td>\n",
       "      <td>NaN</td>\n",
       "      <td>Free</td>\n",
       "      <td>NaN</td>\n",
       "      <td>NaN</td>\n",
       "      <td>0306.33.40.00</td>\n",
       "    </tr>\n",
       "    <tr>\n",
       "      <th>993</th>\n",
       "      <td>0306.16.00.18</td>\n",
       "      <td>4</td>\n",
       "      <td>Count size (headless weight) 89-110 per kg (41...</td>\n",
       "      <td>[\"kg\"]</td>\n",
       "      <td>NaN</td>\n",
       "      <td>NaN</td>\n",
       "      <td>NaN</td>\n",
       "      <td>NaN</td>\n",
       "      <td>NaN</td>\n",
       "      <td>0306.16.00.18</td>\n",
       "    </tr>\n",
       "    <tr>\n",
       "      <th>555</th>\n",
       "      <td>0303.26.00.00</td>\n",
       "      <td>2</td>\n",
       "      <td>Eels (Anguilla spp.)</td>\n",
       "      <td>[\"kg\"]</td>\n",
       "      <td>Free</td>\n",
       "      <td>NaN</td>\n",
       "      <td>2.2¢/kg</td>\n",
       "      <td>NaN</td>\n",
       "      <td>NaN</td>\n",
       "      <td>0303.26.00.00</td>\n",
       "    </tr>\n",
       "    <tr>\n",
       "      <th>420</th>\n",
       "      <td>0302.21.00.20</td>\n",
       "      <td>3</td>\n",
       "      <td>Pacific</td>\n",
       "      <td>[\"kg\"]</td>\n",
       "      <td>NaN</td>\n",
       "      <td>NaN</td>\n",
       "      <td>NaN</td>\n",
       "      <td>NaN</td>\n",
       "      <td>NaN</td>\n",
       "      <td>0302.21.00.20</td>\n",
       "    </tr>\n",
       "  </tbody>\n",
       "</table>\n",
       "</div>"
      ],
      "text/plain": [
       "         HTS Number  Indent  \\\n",
       "721   0304.59.00.09       5   \n",
       "1441  0406.30.34.00       3   \n",
       "963   0306.11.00.00       2   \n",
       "1573  0406.90.94.00       6   \n",
       "115   0106.33.00.00       2   \n",
       "1117  0307.72.00.60       3   \n",
       "617   0303.89.00.10       3   \n",
       "248   0203.21.00.00       2   \n",
       "1535  0406.90.44.00       3   \n",
       "284   0206.00.00.00       0   \n",
       "846   0304.95.00.00       2   \n",
       "1034  0306.33.40.00       3   \n",
       "993   0306.16.00.18       4   \n",
       "555   0303.26.00.00       2   \n",
       "420   0302.21.00.20       3   \n",
       "\n",
       "                                            Description  Unit of Quantity  \\\n",
       "721                                               Other            [\"kg\"]   \n",
       "1441  Described in additional U.S. note 19 to this c...  [\"kg\",\"kg cmsc\"]   \n",
       "963   Rock lobster and other sea crawfish (Palinurus...               NaN   \n",
       "1573                                              Other  [\"kg\",\"kg cmsc\"]   \n",
       "115          Ostriches; emus (Dromaius novaehollandiae)           [\"No.\"]   \n",
       "1117                                              Other            [\"kg\"]   \n",
       "617                                                Cusk            [\"kg\"]   \n",
       "248                        Carcasses and half-carcasses            [\"kg\"]   \n",
       "1535  Described in general note 15 of the tariff sch...            [\"kg\"]   \n",
       "284   Edible offal of bovine animals, swine, sheep, ...               NaN   \n",
       "846   Fish of the families Bregmacerotidae, Euclicht...               NaN   \n",
       "1034                                              Other            [\"kg\"]   \n",
       "993   Count size (headless weight) 89-110 per kg (41...            [\"kg\"]   \n",
       "555                                Eels (Anguilla spp.)            [\"kg\"]   \n",
       "420                                             Pacific            [\"kg\"]   \n",
       "\n",
       "     General Rate of Duty                               Special Rate of Duty  \\\n",
       "721                   NaN                                                NaN   \n",
       "1441                  20%  Free (A+,AU,BH,CL,CO,D,E,IL,JO,KR,MA,OM,P,PA,P...   \n",
       "963                  Free                                                NaN   \n",
       "1573            $1.128/kg  Free (BH,CL,JO,MA,OM,P,PE,SG) 7.5¢/kg (KR) See...   \n",
       "115                  1.8%  Free (A,AU,BH,CL,CO,D,E,IL,JO,KR,MA,OM,P,PA,PE...   \n",
       "1117                  NaN                                                NaN   \n",
       "617                   NaN                                                NaN   \n",
       "248                  Free                                                NaN   \n",
       "1535                 6.4%  Free (A+,AU,BH,CL,CO,D,E,IL,JO,KR,MA,OM,P,PA,P...   \n",
       "284                   NaN                                                NaN   \n",
       "846                   NaN                                                NaN   \n",
       "1034                 Free                                                NaN   \n",
       "993                   NaN                                                NaN   \n",
       "555                  Free                                                NaN   \n",
       "420                   NaN                                                NaN   \n",
       "\n",
       "     Column 2 Rate of Duty  Quota Quantity  Additional Duties  \\\n",
       "721                    NaN             NaN                NaN   \n",
       "1441                   35%             NaN                NaN   \n",
       "963                   Free             NaN                NaN   \n",
       "1573             $1.328/kg             NaN                NaN   \n",
       "115                    20%             NaN                NaN   \n",
       "1117                   NaN             NaN                NaN   \n",
       "617                    NaN             NaN                NaN   \n",
       "248                5.5¢/kg             NaN                NaN   \n",
       "1535                   35%             NaN                NaN   \n",
       "284                    NaN             NaN                NaN   \n",
       "846                    NaN             NaN                NaN   \n",
       "1034                  Free             NaN                NaN   \n",
       "993                    NaN             NaN                NaN   \n",
       "555                2.2¢/kg             NaN                NaN   \n",
       "420                    NaN             NaN                NaN   \n",
       "\n",
       "     HTS Number Cleaned  \n",
       "721       0304.59.00.09  \n",
       "1441      0406.30.34.00  \n",
       "963       0306.11.00.00  \n",
       "1573      0406.90.94.00  \n",
       "115       0106.33.00.00  \n",
       "1117      0307.72.00.60  \n",
       "617       0303.89.00.10  \n",
       "248       0203.21.00.00  \n",
       "1535      0406.90.44.00  \n",
       "284       0206.00.00.00  \n",
       "846       0304.95.00.00  \n",
       "1034      0306.33.40.00  \n",
       "993       0306.16.00.18  \n",
       "555       0303.26.00.00  \n",
       "420       0302.21.00.20  "
      ]
     },
     "execution_count": 48,
     "metadata": {},
     "output_type": "execute_result"
    }
   ],
   "source": [
    "df_cleaned.sample(15)"
   ]
  },
  {
   "cell_type": "code",
   "execution_count": 55,
   "id": "26bffc96",
   "metadata": {},
   "outputs": [
    {
     "data": {
      "text/html": [
       "<div>\n",
       "<style scoped>\n",
       "    .dataframe tbody tr th:only-of-type {\n",
       "        vertical-align: middle;\n",
       "    }\n",
       "\n",
       "    .dataframe tbody tr th {\n",
       "        vertical-align: top;\n",
       "    }\n",
       "\n",
       "    .dataframe thead th {\n",
       "        text-align: right;\n",
       "    }\n",
       "</style>\n",
       "<table border=\"1\" class=\"dataframe\">\n",
       "  <thead>\n",
       "    <tr style=\"text-align: right;\">\n",
       "      <th></th>\n",
       "      <th>HTS Number</th>\n",
       "      <th>Indent</th>\n",
       "      <th>Description</th>\n",
       "      <th>Unit of Quantity</th>\n",
       "      <th>General Rate of Duty</th>\n",
       "      <th>Special Rate of Duty</th>\n",
       "      <th>Column 2 Rate of Duty</th>\n",
       "      <th>Quota Quantity</th>\n",
       "      <th>Additional Duties</th>\n",
       "    </tr>\n",
       "  </thead>\n",
       "  <tbody>\n",
       "    <tr>\n",
       "      <th>2</th>\n",
       "      <td>0101.21.00</td>\n",
       "      <td>2</td>\n",
       "      <td>Purebred breeding animals</td>\n",
       "      <td>NaN</td>\n",
       "      <td>Free</td>\n",
       "      <td>NaN</td>\n",
       "      <td>Free</td>\n",
       "      <td>NaN</td>\n",
       "      <td>NaN</td>\n",
       "    </tr>\n",
       "    <tr>\n",
       "      <th>3</th>\n",
       "      <td>0101.21.00.10</td>\n",
       "      <td>3</td>\n",
       "      <td>Males</td>\n",
       "      <td>[\"No.\"]</td>\n",
       "      <td>NaN</td>\n",
       "      <td>NaN</td>\n",
       "      <td>NaN</td>\n",
       "      <td>NaN</td>\n",
       "      <td>NaN</td>\n",
       "    </tr>\n",
       "    <tr>\n",
       "      <th>4</th>\n",
       "      <td>0101.21.00.20</td>\n",
       "      <td>3</td>\n",
       "      <td>Females</td>\n",
       "      <td>[\"No.\"]</td>\n",
       "      <td>NaN</td>\n",
       "      <td>NaN</td>\n",
       "      <td>NaN</td>\n",
       "      <td>NaN</td>\n",
       "      <td>NaN</td>\n",
       "    </tr>\n",
       "  </tbody>\n",
       "</table>\n",
       "</div>"
      ],
      "text/plain": [
       "      HTS Number  Indent                Description Unit of Quantity  \\\n",
       "2     0101.21.00       2  Purebred breeding animals              NaN   \n",
       "3  0101.21.00.10       3                      Males          [\"No.\"]   \n",
       "4  0101.21.00.20       3                    Females          [\"No.\"]   \n",
       "\n",
       "  General Rate of Duty Special Rate of Duty Column 2 Rate of Duty  \\\n",
       "2                 Free                  NaN                  Free   \n",
       "3                  NaN                  NaN                   NaN   \n",
       "4                  NaN                  NaN                   NaN   \n",
       "\n",
       "   Quota Quantity  Additional Duties  \n",
       "2             NaN                NaN  \n",
       "3             NaN                NaN  \n",
       "4             NaN                NaN  "
      ]
     },
     "execution_count": 55,
     "metadata": {},
     "output_type": "execute_result"
    }
   ],
   "source": [
    "df[df[\"HTS Number\"].astype(str).str.startswith(\"0101.21.00\")]"
   ]
  },
  {
   "cell_type": "code",
   "execution_count": 14,
   "id": "f39c7750",
   "metadata": {},
   "outputs": [],
   "source": [
    "import re\n",
    "\n",
    "# Load HTS data CSV\n",
    "# df = pd.read_csv(\"htsdata.csv\")\n",
    "\n",
    "# Input values\n",
    "product_cost = 10000.0  # FOB cost\n",
    "freight = 500.0\n",
    "insurance = 100.0\n",
    "unit_weight = 1000  # in kg\n",
    "quantity = 10       # number of units\n",
    "\n",
    "# Compute CIF\n",
    "cif_value = product_cost + freight + insurance\n",
    "\n",
    "# Duty parser\n",
    "def parse_duty_advanced(duty_str, unit_weight=None, quantity=None):\n",
    "    \"\"\"\n",
    "    Parses and returns a duty rate as a decimal fraction (e.g., 0.05 for 5%),\n",
    "    or a calculated specific duty based on unit_weight or quantity.\n",
    "    \"\"\"\n",
    "    if pd.isna(duty_str) or duty_str.strip() == \"\":\n",
    "        return 0.0\n",
    "\n",
    "    duty_str = duty_str.strip().lower()\n",
    "\n",
    "    if \"free\" in duty_str:\n",
    "        return 0.0\n",
    "\n",
    "    # Percentage duty (e.g., '5%')\n",
    "    match = re.search(r\"([\\d.]+)\\s*%\", duty_str)\n",
    "    if match:\n",
    "        return float(match.group(1)) / 100\n",
    "\n",
    "    # Weight-based duty (e.g., '2.5¢/kg')\n",
    "    match = re.search(r\"([\\d.]+)\\s*¢/kg\", duty_str)\n",
    "    if match and unit_weight is not None:\n",
    "        cents_per_kg = float(match.group(1))\n",
    "        return (cents_per_kg * unit_weight) / (100 * cif_value)  # convert to % of CIF\n",
    "\n",
    "    # Unit-based duty (e.g., '$1.00/unit')\n",
    "    match = re.search(r\"\\$([\\d.]+)/unit\", duty_str)\n",
    "    if match and quantity is not None:\n",
    "        dollars_per_unit = float(match.group(1))\n",
    "        return (dollars_per_unit * quantity) / cif_value\n",
    "\n",
    "    return 0.0\n",
    "\n",
    "# Create working DataFrame\n",
    "duty_df = df[[\"HTS Number\", \"Description\", \"General Rate of Duty\", \n",
    "              \"Special Rate of Duty\", \"Column 2 Rate of Duty\"]].copy()\n",
    "\n",
    "# Apply CIF and input data\n",
    "duty_df[\"CIF Value\"] = cif_value\n",
    "duty_df[\"Product Cost\"] = product_cost\n",
    "duty_df[\"Freight\"] = freight\n",
    "duty_df[\"Insurance\"] = insurance\n",
    "\n",
    "# Apply duty calculations\n",
    "for col in [\"General Rate of Duty\", \"Special Rate of Duty\", \"Column 2 Rate of Duty\"]:\n",
    "    parsed_col = f\"{col} Parsed (%)\"\n",
    "    amount_col = f\"{col} Duty Amount\"\n",
    "    duty_df[parsed_col] = duty_df[col].apply(lambda x: parse_duty_advanced(x, unit_weight, quantity))\n",
    "    duty_df[amount_col] = duty_df[parsed_col] * cif_value\n",
    "\n",
    "# Filter results with any applicable duty\n",
    "duty_df_filtered = duty_df[\n",
    "    (duty_df[\"General Rate of Duty Duty Amount\"] > 0) |\n",
    "    (duty_df[\"Special Rate of Duty Duty Amount\"] > 0) |\n",
    "    (duty_df[\"Column 2 Rate of Duty Duty Amount\"] > 0)\n",
    "]\n",
    "\n",
    "# Save results\n",
    "duty_df_filtered.to_csv(\"landed_cost_duties.csv\", index=False)\n"
   ]
  },
  {
   "cell_type": "code",
   "execution_count": 2,
   "id": "1c199888",
   "metadata": {},
   "outputs": [],
   "source": [
    "landed_cost = pd.read_csv(\"landed_cost_duties.csv\")"
   ]
  },
  {
   "cell_type": "code",
   "execution_count": 11,
   "id": "72bc6d05",
   "metadata": {},
   "outputs": [
    {
     "data": {
      "text/plain": [
       "0         0101.29.00\n",
       "1      0101.30.00.00\n",
       "2      0101.90.40.00\n",
       "3         0102.29.20\n",
       "4         0102.29.40\n",
       "           ...      \n",
       "513    0510.00.20.00\n",
       "514       0511.10.00\n",
       "515       0511.99.30\n",
       "516    0511.99.36.00\n",
       "517       0511.99.40\n",
       "Name: HTS Number, Length: 518, dtype: object"
      ]
     },
     "execution_count": 11,
     "metadata": {},
     "output_type": "execute_result"
    }
   ],
   "source": [
    "landed_cost['HTS Number']"
   ]
  },
  {
   "cell_type": "code",
   "execution_count": 17,
   "id": "2de20bd2",
   "metadata": {},
   "outputs": [
    {
     "data": {
      "text/html": [
       "<div>\n",
       "<style scoped>\n",
       "    .dataframe tbody tr th:only-of-type {\n",
       "        vertical-align: middle;\n",
       "    }\n",
       "\n",
       "    .dataframe tbody tr th {\n",
       "        vertical-align: top;\n",
       "    }\n",
       "\n",
       "    .dataframe thead th {\n",
       "        text-align: right;\n",
       "    }\n",
       "</style>\n",
       "<table border=\"1\" class=\"dataframe\">\n",
       "  <thead>\n",
       "    <tr style=\"text-align: right;\">\n",
       "      <th></th>\n",
       "      <th>HTS Number</th>\n",
       "      <th>Description</th>\n",
       "      <th>General Rate of Duty</th>\n",
       "      <th>Special Rate of Duty</th>\n",
       "      <th>Column 2 Rate of Duty</th>\n",
       "      <th>CIF Value</th>\n",
       "      <th>Product Cost</th>\n",
       "      <th>Freight</th>\n",
       "      <th>Insurance</th>\n",
       "      <th>General Rate of Duty Parsed (%)</th>\n",
       "      <th>General Rate of Duty Duty Amount</th>\n",
       "      <th>Special Rate of Duty Parsed (%)</th>\n",
       "      <th>Special Rate of Duty Duty Amount</th>\n",
       "      <th>Column 2 Rate of Duty Parsed (%)</th>\n",
       "      <th>Column 2 Rate of Duty Duty Amount</th>\n",
       "    </tr>\n",
       "  </thead>\n",
       "  <tbody>\n",
       "  </tbody>\n",
       "</table>\n",
       "</div>"
      ],
      "text/plain": [
       "Empty DataFrame\n",
       "Columns: [HTS Number, Description, General Rate of Duty, Special Rate of Duty, Column 2 Rate of Duty, CIF Value, Product Cost, Freight, Insurance, General Rate of Duty Parsed (%), General Rate of Duty Duty Amount, Special Rate of Duty Parsed (%), Special Rate of Duty Duty Amount, Column 2 Rate of Duty Parsed (%), Column 2 Rate of Duty Duty Amount]\n",
       "Index: []"
      ]
     },
     "execution_count": 17,
     "metadata": {},
     "output_type": "execute_result"
    }
   ],
   "source": [
    "landed_cost[landed_cost[\"HTS Number\"].astype(str).str.startswith(\"0101.21\")]"
   ]
  },
  {
   "cell_type": "code",
   "execution_count": 49,
   "id": "953b3614",
   "metadata": {},
   "outputs": [],
   "source": [
    "data_Store_path = \"C:\\\\Users\\\\mynam\\\\TariffBot\\\\HTS-Tariff-Agent\\\\data\\\\downloads\\\\section1.csv\"\n",
    "df_cleaned.to_csv(data_Store_path,index=False)"
   ]
  },
  {
   "cell_type": "code",
   "execution_count": null,
   "id": "b312b9ec",
   "metadata": {},
   "outputs": [],
   "source": []
  }
 ],
 "metadata": {
  "kernelspec": {
   "display_name": ".venv",
   "language": "python",
   "name": "python3"
  },
  "language_info": {
   "codemirror_mode": {
    "name": "ipython",
    "version": 3
   },
   "file_extension": ".py",
   "mimetype": "text/x-python",
   "name": "python",
   "nbconvert_exporter": "python",
   "pygments_lexer": "ipython3",
   "version": "3.11.9"
  }
 },
 "nbformat": 4,
 "nbformat_minor": 5
}
